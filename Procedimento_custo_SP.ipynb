{
  "nbformat": 4,
  "nbformat_minor": 0,
  "metadata": {
    "kernelspec": {
      "name": "python3",
      "display_name": "Python 3.7",
      "language": "python"
    },
    "language_info": {
      "name": "python",
      "version": "3.7.9",
      "mimetype": "text/x-python",
      "codemirror_mode": {
        "name": "ipython",
        "version": 3
      },
      "pygments_lexer": "ipython3",
      "nbconvert_exporter": "python",
      "file_extension": ".py"
    },
    "colab": {
      "name": "Procedimento_custo SP.ipynb",
      "provenance": [],
      "collapsed_sections": [
        "c2iD15nw8Aat",
        "CBSkFldB-Iq6",
        "7Sx9K2YB-DGt",
        "CGb-wqTB-UgJ",
        "g_SmTwoZ-gnZ",
        "f8iqYgHC7DTR"
      ]
    }
  },
  "cells": [
    {
      "cell_type": "markdown",
      "metadata": {
        "id": "c2iD15nw8Aat"
      },
      "source": [
        "## Importação das LIBS"
      ]
    },
    {
      "cell_type": "code",
      "metadata": {
        "id": "JVLfX4Mb8DFi"
      },
      "source": [
        "#Importando as bibliotecas\r\n",
        "import types\r\n",
        "import pandas as pd"
      ],
      "execution_count": 18,
      "outputs": []
    },
    {
      "cell_type": "markdown",
      "metadata": {
        "id": "YnyFAEv58x0q"
      },
      "source": [
        "## Importação dos DATASET"
      ]
    },
    {
      "cell_type": "code",
      "metadata": {
        "id": "WfODeGDV20C0"
      },
      "source": [
        "#Lendo os arquivos .CSV\n",
        "df_codigo = pd.read_csv('codigo.csv', sep=';')\n",
        "df_procedimento = pd.read_csv('procedimento.csv', sep=';')\n",
        "df_DP = pd.read_csv('DPSP_M625.csv')\n",
        "df_w0 = pd.read_csv('DPSP_w0.csv')\n",
        "df_w1 = pd.read_csv('DPSP_w1.csv')\n",
        "df_DS = pd.read_csv('DSSP_M625.csv')"
      ],
      "execution_count": 19,
      "outputs": []
    },
    {
      "cell_type": "markdown",
      "metadata": {
        "id": "CBSkFldB-Iq6"
      },
      "source": [
        "## Mostrando o tamanha de cada dataset\r\n"
      ]
    },
    {
      "cell_type": "code",
      "metadata": {
        "colab": {
          "base_uri": "https://localhost:8080/"
        },
        "id": "DlNyGjBk9Cz3",
        "outputId": "ef4483c8-c40f-49c6-b07e-8b2ef53a68e7"
      },
      "source": [
        "# Tamanho do dataset codigo\r\n",
        "df_codigo.shape"
      ],
      "execution_count": 20,
      "outputs": [
        {
          "output_type": "execute_result",
          "data": {
            "text/plain": [
              "(115, 4)"
            ]
          },
          "metadata": {
            "tags": []
          },
          "execution_count": 20
        }
      ]
    },
    {
      "cell_type": "code",
      "metadata": {
        "colab": {
          "base_uri": "https://localhost:8080/"
        },
        "id": "j6m4iU7t9JXd",
        "outputId": "1132039f-9cb5-4e88-fa38-00ffa0e1f3de"
      },
      "source": [
        "# Tamanho do dataset procedimento\r\n",
        "df_procedimento.shape"
      ],
      "execution_count": 21,
      "outputs": [
        {
          "output_type": "execute_result",
          "data": {
            "text/plain": [
              "(1874, 2)"
            ]
          },
          "metadata": {
            "tags": []
          },
          "execution_count": 21
        }
      ]
    },
    {
      "cell_type": "code",
      "metadata": {
        "colab": {
          "base_uri": "https://localhost:8080/"
        },
        "id": "XHNuyWug9Jem",
        "outputId": "999f609a-2cda-4c23-b5e1-23ecf6b0fb60"
      },
      "source": [
        "# Tamanho do dataset DP\r\n",
        "df_DP.shape"
      ],
      "execution_count": 22,
      "outputs": [
        {
          "output_type": "execute_result",
          "data": {
            "text/plain": [
              "(309, 8)"
            ]
          },
          "metadata": {
            "tags": []
          },
          "execution_count": 22
        }
      ]
    },
    {
      "cell_type": "code",
      "metadata": {
        "colab": {
          "base_uri": "https://localhost:8080/"
        },
        "id": "YsDA7tIB9JmR",
        "outputId": "3f9fc9ce-fae6-450c-de3d-ac06d5c0b339"
      },
      "source": [
        "# Tamanho do dataset w0\r\n",
        "df_w0.shape"
      ],
      "execution_count": 23,
      "outputs": [
        {
          "output_type": "execute_result",
          "data": {
            "text/plain": [
              "(6039, 8)"
            ]
          },
          "metadata": {
            "tags": []
          },
          "execution_count": 23
        }
      ]
    },
    {
      "cell_type": "code",
      "metadata": {
        "colab": {
          "base_uri": "https://localhost:8080/"
        },
        "id": "BBPU6c6_9Jun",
        "outputId": "db5ccb18-3ffe-461d-cb63-6097726c9464"
      },
      "source": [
        "# Tamanho do dataset w1\r\n",
        "df_w1.shape"
      ],
      "execution_count": 24,
      "outputs": [
        {
          "output_type": "execute_result",
          "data": {
            "text/plain": [
              "(7118, 8)"
            ]
          },
          "metadata": {
            "tags": []
          },
          "execution_count": 24
        }
      ]
    },
    {
      "cell_type": "code",
      "metadata": {
        "colab": {
          "base_uri": "https://localhost:8080/"
        },
        "id": "WQzuyq4t9KBM",
        "outputId": "b1265144-6d66-4dff-9803-6dbe033ef13e"
      },
      "source": [
        "# Tamanho do dataset DS\r\n",
        "df_DS.shape"
      ],
      "execution_count": 25,
      "outputs": [
        {
          "output_type": "execute_result",
          "data": {
            "text/plain": [
              "(73, 8)"
            ]
          },
          "metadata": {
            "tags": []
          },
          "execution_count": 25
        }
      ]
    },
    {
      "cell_type": "markdown",
      "metadata": {
        "id": "7Sx9K2YB-DGt"
      },
      "source": [
        "## Limpeza dos DADOS\r\n"
      ]
    },
    {
      "cell_type": "code",
      "metadata": {
        "id": "_1piGD-220C6"
      },
      "source": [
        "#Trocando a nomeclatura da coluna 'Código' para 'codigo'\n",
        "df_procedimento.rename(columns={'Código':'codigo'}, inplace=True)\n",
        "df_DP.rename(columns={'PROC_REA':'codigo'}, inplace=True)\n",
        "#Trocando a nomeclatura da coluna 'Código' para 'codigo'\n",
        "df_procedimento.rename(columns={'Código':'codigo'}, inplace=True)\n",
        "df_w0.rename(columns={'PROC_REA':'codigo'}, inplace=True)\n",
        "#Trocando a nomeclatura da coluna 'Código' para 'codigo'\n",
        "df_procedimento.rename(columns={'Código':'codigo'}, inplace=True)\n",
        "df_w1.rename(columns={'PROC_REA':'codigo'}, inplace=True)\n",
        "#Trocando a nomeclatura da coluna 'Código' para 'codigo'\n",
        "df_procedimento.rename(columns={'Código':'codigo'}, inplace=True)\n",
        "df_DS.rename(columns={'PROC_REA':'codigo'}, inplace=True)"
      ],
      "execution_count": 3,
      "outputs": []
    },
    {
      "cell_type": "code",
      "metadata": {
        "id": "qWEndTFH20DS"
      },
      "source": [
        "#Merge foi utilizado para unir as tabelas conforme a coluna 'procedimento'\n",
        "df_merge_DP = pd.merge(df_DP,df_procedimento, on='codigo')\n",
        "df_merge_w0 = pd.merge(df_w0,df_procedimento, on='codigo')\n",
        "df_merge_w1 = pd.merge(df_w1,df_procedimento, on='codigo')\n",
        "df_merge_DS = pd.merge(df_DS,df_procedimento, on='codigo')"
      ],
      "execution_count": 4,
      "outputs": []
    },
    {
      "cell_type": "code",
      "metadata": {
        "id": "3916pfRH20DU"
      },
      "source": [
        "#Merge foi utilizado para unir as tabelas conforme a coluna 'codigo'\n",
        "df_merge_DP = pd.merge(df_merge_DP,df_codigo, on='codigo')\n",
        "df_merge_w0 = pd.merge(df_merge_w0,df_codigo, on='codigo')\n",
        "df_merge_w1 = pd.merge(df_merge_w1,df_codigo, on='codigo')\n",
        "df_merge_DS = pd.merge(df_merge_DS,df_codigo, on='codigo')"
      ],
      "execution_count": 5,
      "outputs": []
    },
    {
      "cell_type": "code",
      "metadata": {
        "id": "1C-Sfeu120DV"
      },
      "source": [
        "df_merge_DP['Serviço Hospitalar '] = df_merge_DP['Serviço Hospitalar '].str.replace('.','')#alterando de . para ,\n",
        "df_merge_w0['Serviço Hospitalar '] = df_merge_w0['Serviço Hospitalar '].str.replace('.','')#alterando de . para ,\n",
        "df_merge_w1['Serviço Hospitalar '] = df_merge_w1['Serviço Hospitalar '].str.replace('.','')#alterando de . para ,\n",
        "df_merge_DS['Serviço Hospitalar '] = df_merge_DS['Serviço Hospitalar '].str.replace('.','')#alterando de . para ,"
      ],
      "execution_count": 6,
      "outputs": []
    },
    {
      "cell_type": "code",
      "metadata": {
        "id": "5t6SgdRl20EE"
      },
      "source": [
        "df_merge_DP['Serviço Hospitalar '] = df_merge_DP['Serviço Hospitalar '].str.replace(',','.').astype(float)#trocando de object para float\n",
        "df_merge_w0['Serviço Hospitalar '] = df_merge_w0['Serviço Hospitalar '].str.replace(',','.').astype(float)#trocando de object para float\n",
        "df_merge_w1['Serviço Hospitalar '] = df_merge_w1['Serviço Hospitalar '].str.replace(',','.').astype(float)#trocando de object para float\n",
        "df_merge_DS['Serviço Hospitalar '] = df_merge_DS['Serviço Hospitalar '].str.replace(',','.').astype(float)#trocando de object para float"
      ],
      "execution_count": 7,
      "outputs": []
    },
    {
      "cell_type": "code",
      "metadata": {
        "id": "-Qe6-xjZ20EE"
      },
      "source": [
        "df_merge_DP['Serviço Profissional'] = df_merge_DP['Serviço Profissional'].str.replace(',','.').astype(float)#trocando de object para float\n",
        "df_merge_w0['Serviço Profissional'] = df_merge_w0['Serviço Profissional'].str.replace(',','.').astype(float)#trocando de object para float\n",
        "df_merge_w1['Serviço Profissional'] = df_merge_w1['Serviço Profissional'].str.replace(',','.').astype(float)#trocando de object para float\n",
        "df_merge_DS['Serviço Profissional'] = df_merge_DS['Serviço Profissional'].str.replace(',','.').astype(float)#trocando de object para float"
      ],
      "execution_count": 8,
      "outputs": []
    },
    {
      "cell_type": "code",
      "metadata": {
        "id": "IFb1myst20EF"
      },
      "source": [
        "df_merge_DP['Total Hospitalar '] = df_merge_DP['Total Hospitalar '].str.replace('.','')#alterando de . para ,\n",
        "df_merge_w0['Total Hospitalar '] = df_merge_w0['Total Hospitalar '].str.replace('.','')#alterando de . para ,\n",
        "df_merge_w1['Total Hospitalar '] = df_merge_w1['Total Hospitalar '].str.replace('.','')#alterando de . para ,\n",
        "df_merge_DS['Total Hospitalar '] = df_merge_DS['Total Hospitalar '].str.replace('.','')#alterando de . para ,"
      ],
      "execution_count": 9,
      "outputs": []
    },
    {
      "cell_type": "code",
      "metadata": {
        "id": "vj8bKk9Y20EG"
      },
      "source": [
        "df_merge_DP['Total Hospitalar '] = df_merge_DP['Total Hospitalar '].str.replace(',','.').astype(float)#trocando de object para float\n",
        "df_merge_w0['Total Hospitalar '] = df_merge_w0['Total Hospitalar '].str.replace(',','.').astype(float)#trocando de object para float\n",
        "df_merge_w1['Total Hospitalar '] = df_merge_w1['Total Hospitalar '].str.replace(',','.').astype(float)#trocando de object para float\n",
        "df_merge_DS['Total Hospitalar '] = df_merge_DS['Total Hospitalar '].str.replace(',','.').astype(float)#trocando de object para float"
      ],
      "execution_count": 10,
      "outputs": []
    },
    {
      "cell_type": "markdown",
      "metadata": {
        "id": "CGb-wqTB-UgJ"
      },
      "source": [
        "## Criando a coluna 'Valor_Total_DIAS_PERM'"
      ]
    },
    {
      "cell_type": "code",
      "metadata": {
        "id": "DXGjsw-n20EG"
      },
      "source": [
        "novacoluna_DP = df_merge_DP['DIAS_PERM']*df_merge_DP['Total Hospitalar ']# calculando o total de dias com o total do valor por dia\n",
        "novacoluna_w0 = df_merge_w0['DIAS_PERM']*df_merge_w0['Total Hospitalar ']# calculando o total de dias com o total do valor por dia\n",
        "novacoluna_w1 = df_merge_w1['DIAS_PERM']*df_merge_w1['Total Hospitalar ']# calculando o total de dias com o total do valor por dia\n",
        "novacoluna_DS = df_merge_DS['DIAS_PERM']*df_merge_DS['Total Hospitalar ']# calculando o total de dias com o total do valor por dia"
      ],
      "execution_count": 11,
      "outputs": []
    },
    {
      "cell_type": "code",
      "metadata": {
        "id": "-eE4TyrP20EH"
      },
      "source": [
        "df_merge_DP.insert(loc=12, column='Valor_Total_DIAS_PERM', value=novacoluna_DP)#Criando uma nova coluna com o nome Total_DIAS_PERM\n",
        "df_merge_w0.insert(loc=12, column='Valor_Total_DIAS_PERM', value=novacoluna_w0)#Criando uma nova coluna com o nome Total_DIAS_PERM\n",
        "df_merge_w1.insert(loc=12, column=, value=novacoluna_w1)#Criando uma nova coluna com o nome Total_DIAS_PERM\n",
        "df_merge_DS.insert(loc=12, column='Valor_Total_DIAS_PERM', value=novacoluna_DS)#Criando uma nova coluna com o nome Total_DIAS_PERM"
      ],
      "execution_count": 12,
      "outputs": []
    },
    {
      "cell_type": "markdown",
      "metadata": {
        "id": "g_SmTwoZ-gnZ"
      },
      "source": [
        "##Concatenando um dataset em baixo do outro"
      ]
    },
    {
      "cell_type": "code",
      "metadata": {
        "id": "5V471kFT20Eo"
      },
      "source": [
        "#Colocando todos dataframe um em baixo do outro\r\n",
        "df = pd.concat([df_merge_DP, df_merge_w0,df_merge_w1,df_merge_DS])"
      ],
      "execution_count": 13,
      "outputs": []
    },
    {
      "cell_type": "code",
      "metadata": {
        "id": "BU3WM1FA20Ep"
      },
      "source": [
        "#Colocando todos dataframe em um unico dataframe\r\n",
        "df_teste = pd.DataFrame(df[['DIAG_PRINC','Procedimento ','Total Hospitalar ']])"
      ],
      "execution_count": 14,
      "outputs": []
    },
    {
      "cell_type": "code",
      "metadata": {
        "id": "1C5uPbQo20Ep"
      },
      "source": [
        "#Agrumando pela colunas 'DIAG_PRINC' e 'Procedimento '\r\n",
        "df_grp = df_teste.groupby(['DIAG_PRINC','Procedimento '], as_index=False).sum()"
      ],
      "execution_count": 15,
      "outputs": []
    },
    {
      "cell_type": "markdown",
      "metadata": {
        "id": "f8iqYgHC7DTR"
      },
      "source": [
        "## *Mostrando na tela o resultado*\r\n",
        "\r\n",
        "> Bloco com avanço\r\n",
        "\r\n"
      ]
    },
    {
      "cell_type": "code",
      "metadata": {
        "colab": {
          "base_uri": "https://localhost:8080/",
          "height": 948
        },
        "id": "Bk_u9gtR20Ep",
        "outputId": "58602685-14f9-4719-e2f8-9531b2207141"
      },
      "source": [
        "#Monstrando as 30 primeiras linhas do dataframe\r\n",
        "df_grp.head(30)"
      ],
      "execution_count": 16,
      "outputs": [
        {
          "output_type": "execute_result",
          "data": {
            "text/html": [
              "<div>\n",
              "<style scoped>\n",
              "    .dataframe tbody tr th:only-of-type {\n",
              "        vertical-align: middle;\n",
              "    }\n",
              "\n",
              "    .dataframe tbody tr th {\n",
              "        vertical-align: top;\n",
              "    }\n",
              "\n",
              "    .dataframe thead th {\n",
              "        text-align: right;\n",
              "    }\n",
              "</style>\n",
              "<table border=\"1\" class=\"dataframe\">\n",
              "  <thead>\n",
              "    <tr style=\"text-align: right;\">\n",
              "      <th></th>\n",
              "      <th>DIAG_PRINC</th>\n",
              "      <th>Procedimento</th>\n",
              "      <th>Total Hospitalar</th>\n",
              "    </tr>\n",
              "  </thead>\n",
              "  <tbody>\n",
              "    <tr>\n",
              "      <th>0</th>\n",
              "      <td>E858</td>\n",
              "      <td>IMPLANTAÇÃO DE CATETER DE LONGA PERMANÊNCIA SE...</td>\n",
              "      <td>428.64</td>\n",
              "    </tr>\n",
              "    <tr>\n",
              "      <th>1</th>\n",
              "      <td>F050</td>\n",
              "      <td>DIAGNOSTICO E/OU ATENDIMENTO DE URGENCIA  EM C...</td>\n",
              "      <td>47.27</td>\n",
              "    </tr>\n",
              "    <tr>\n",
              "      <th>2</th>\n",
              "      <td>G35</td>\n",
              "      <td>TRATAMENTO DE SURTO DE ESCLEROSE MULTIPLA</td>\n",
              "      <td>303.80</td>\n",
              "    </tr>\n",
              "    <tr>\n",
              "      <th>3</th>\n",
              "      <td>G628</td>\n",
              "      <td>TRATAMENTO DE POLINEUROPATIAS</td>\n",
              "      <td>359.91</td>\n",
              "    </tr>\n",
              "    <tr>\n",
              "      <th>4</th>\n",
              "      <td>G629</td>\n",
              "      <td>TRATAMENTO DE POLINEUROPATIAS</td>\n",
              "      <td>359.91</td>\n",
              "    </tr>\n",
              "    <tr>\n",
              "      <th>5</th>\n",
              "      <td>G728</td>\n",
              "      <td>DIAGNOSTICO E/OU ATENDIMENTO DE URGENCIA EM CL...</td>\n",
              "      <td>44.22</td>\n",
              "    </tr>\n",
              "    <tr>\n",
              "      <th>6</th>\n",
              "      <td>H813</td>\n",
              "      <td>DIAGNOSTICO E/OU ATENDIMENTO DE URGENCIA EM CL...</td>\n",
              "      <td>44.22</td>\n",
              "    </tr>\n",
              "    <tr>\n",
              "      <th>7</th>\n",
              "      <td>I500</td>\n",
              "      <td>TRATAMENTO DE INSUFICIENCIA CARDIACA</td>\n",
              "      <td>1398.92</td>\n",
              "    </tr>\n",
              "    <tr>\n",
              "      <th>8</th>\n",
              "      <td>I652</td>\n",
              "      <td>DIAGNOSTICO E/OU ATENDIMENTO DE URGENCIA EM CL...</td>\n",
              "      <td>44.22</td>\n",
              "    </tr>\n",
              "    <tr>\n",
              "      <th>9</th>\n",
              "      <td>I678</td>\n",
              "      <td>TRATAMENTO DE ACIDENTE VASCULAR CEREBRAL - AVC...</td>\n",
              "      <td>463.21</td>\n",
              "    </tr>\n",
              "    <tr>\n",
              "      <th>10</th>\n",
              "      <td>J969</td>\n",
              "      <td>TRATAMENTO DE OUTRAS DOENCAS DO APARELHO RESPI...</td>\n",
              "      <td>480.87</td>\n",
              "    </tr>\n",
              "    <tr>\n",
              "      <th>11</th>\n",
              "      <td>K754</td>\n",
              "      <td>ATENDIMENTO A PACIENTE SOB CUIDADOS PROLONGADO...</td>\n",
              "      <td>66.47</td>\n",
              "    </tr>\n",
              "    <tr>\n",
              "      <th>12</th>\n",
              "      <td>L120</td>\n",
              "      <td>DIAGNOSTICO E/OU ATENDIMENTO DE URGENCIA EM CL...</td>\n",
              "      <td>44.22</td>\n",
              "    </tr>\n",
              "    <tr>\n",
              "      <th>13</th>\n",
              "      <td>M625</td>\n",
              "      <td>ATENDIMENTO A PACIENTE SOB CUIDADOS PROLONGADO...</td>\n",
              "      <td>66.47</td>\n",
              "    </tr>\n",
              "    <tr>\n",
              "      <th>14</th>\n",
              "      <td>M625</td>\n",
              "      <td>ATENDIMENTO FISIOTERAPÊUTICO EM PACIENTE C/ TR...</td>\n",
              "      <td>18.68</td>\n",
              "    </tr>\n",
              "    <tr>\n",
              "      <th>15</th>\n",
              "      <td>M625</td>\n",
              "      <td>AVALIACAO CINEMATICA E DE PARAMETROS LINEARES</td>\n",
              "      <td>1.26</td>\n",
              "    </tr>\n",
              "    <tr>\n",
              "      <th>16</th>\n",
              "      <td>M625</td>\n",
              "      <td>DIAGNOSTICO E/OU ATENDIMENTO DE URGENCIA  EM C...</td>\n",
              "      <td>94.54</td>\n",
              "    </tr>\n",
              "    <tr>\n",
              "      <th>17</th>\n",
              "      <td>M625</td>\n",
              "      <td>DIAGNOSTICO E/OU ATENDIMENTO DE URGENCIA EM CL...</td>\n",
              "      <td>619.08</td>\n",
              "    </tr>\n",
              "    <tr>\n",
              "      <th>18</th>\n",
              "      <td>M625</td>\n",
              "      <td>RESSONANCIA MAGNETICA DE BACIA / PELVE</td>\n",
              "      <td>268.75</td>\n",
              "    </tr>\n",
              "    <tr>\n",
              "      <th>19</th>\n",
              "      <td>M625</td>\n",
              "      <td>RESSONANCIA MAGNETICA DE COLUNA LOMBO-SACRA</td>\n",
              "      <td>268.75</td>\n",
              "    </tr>\n",
              "    <tr>\n",
              "      <th>20</th>\n",
              "      <td>M625</td>\n",
              "      <td>RESSONANCIA MAGNETICA DE CRANIO</td>\n",
              "      <td>268.75</td>\n",
              "    </tr>\n",
              "    <tr>\n",
              "      <th>21</th>\n",
              "      <td>M625</td>\n",
              "      <td>TOMOGRAFIA COMPUTADORIZADA DE ABDOMEN</td>\n",
              "      <td>138.63</td>\n",
              "    </tr>\n",
              "    <tr>\n",
              "      <th>22</th>\n",
              "      <td>M625</td>\n",
              "      <td>TOMOGRAFIA COMPUTADORIZADA DE PELVE / BACIA</td>\n",
              "      <td>138.63</td>\n",
              "    </tr>\n",
              "    <tr>\n",
              "      <th>23</th>\n",
              "      <td>M625</td>\n",
              "      <td>TOMOGRAFIA COMPUTADORIZADA DO CRANIO</td>\n",
              "      <td>779.52</td>\n",
              "    </tr>\n",
              "    <tr>\n",
              "      <th>24</th>\n",
              "      <td>M625</td>\n",
              "      <td>TRATAMENTO DE COMPLICACOES DE PROCEDIMENTOS CI...</td>\n",
              "      <td>199.33</td>\n",
              "    </tr>\n",
              "    <tr>\n",
              "      <th>25</th>\n",
              "      <td>M625</td>\n",
              "      <td>TRATAMENTO EM REABILITACAO</td>\n",
              "      <td>129.12</td>\n",
              "    </tr>\n",
              "    <tr>\n",
              "      <th>26</th>\n",
              "      <td>W000</td>\n",
              "      <td>CURATIVO  GRAU II  C/ OU S/ DEBRIDAMENTO (POR ...</td>\n",
              "      <td>32.40</td>\n",
              "    </tr>\n",
              "    <tr>\n",
              "      <th>27</th>\n",
              "      <td>W000</td>\n",
              "      <td>DIAGNOSTICO E/OU ATENDIMENTO DE URGENCIA EM CL...</td>\n",
              "      <td>40.38</td>\n",
              "    </tr>\n",
              "    <tr>\n",
              "      <th>28</th>\n",
              "      <td>W000</td>\n",
              "      <td>EXAME ANATOMO-PATOLOGICO P/ CONGELAMENTO / PAR...</td>\n",
              "      <td>24.00</td>\n",
              "    </tr>\n",
              "    <tr>\n",
              "      <th>29</th>\n",
              "      <td>W000</td>\n",
              "      <td>EXCISAO DE LESAO E/OU SUTURA DE FERIMENTO DA P...</td>\n",
              "      <td>23.16</td>\n",
              "    </tr>\n",
              "  </tbody>\n",
              "</table>\n",
              "</div>"
            ],
            "text/plain": [
              "   DIAG_PRINC  ... Total Hospitalar \n",
              "0        E858  ...            428.64\n",
              "1        F050  ...             47.27\n",
              "2         G35  ...            303.80\n",
              "3        G628  ...            359.91\n",
              "4        G629  ...            359.91\n",
              "5        G728  ...             44.22\n",
              "6        H813  ...             44.22\n",
              "7        I500  ...           1398.92\n",
              "8        I652  ...             44.22\n",
              "9        I678  ...            463.21\n",
              "10       J969  ...            480.87\n",
              "11       K754  ...             66.47\n",
              "12       L120  ...             44.22\n",
              "13       M625  ...             66.47\n",
              "14       M625  ...             18.68\n",
              "15       M625  ...              1.26\n",
              "16       M625  ...             94.54\n",
              "17       M625  ...            619.08\n",
              "18       M625  ...            268.75\n",
              "19       M625  ...            268.75\n",
              "20       M625  ...            268.75\n",
              "21       M625  ...            138.63\n",
              "22       M625  ...            138.63\n",
              "23       M625  ...            779.52\n",
              "24       M625  ...            199.33\n",
              "25       M625  ...            129.12\n",
              "26       W000  ...             32.40\n",
              "27       W000  ...             40.38\n",
              "28       W000  ...             24.00\n",
              "29       W000  ...             23.16\n",
              "\n",
              "[30 rows x 3 columns]"
            ]
          },
          "metadata": {
            "tags": []
          },
          "execution_count": 16
        }
      ]
    },
    {
      "cell_type": "code",
      "metadata": {
        "id": "9-9oNO4T-wG0"
      },
      "source": [
        ""
      ],
      "execution_count": null,
      "outputs": []
    }
  ]
}